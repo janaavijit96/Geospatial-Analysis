{
 "cells": [
  {
   "cell_type": "code",
   "execution_count": 6,
   "id": "1ed4c458-1361-4a6e-b8b1-58937d231b14",
   "metadata": {},
   "outputs": [],
   "source": [
    "import geopandas\n",
    "import geopy\n",
    "import rasterio"
   ]
  },
  {
   "cell_type": "markdown",
   "id": "877bbee5-0b38-4e26-88de-35c08f2b9872",
   "metadata": {},
   "source": [
    "# Variables"
   ]
  },
  {
   "cell_type": "markdown",
   "id": "11c49186-bdf7-4d0a-8d3c-2093b8337b18",
   "metadata": {},
   "source": [
    "## Strings"
   ]
  },
  {
   "cell_type": "markdown",
   "id": "ab6f6afc-2385-4732-b053-0195ce41d6fa",
   "metadata": {},
   "source": [
    "##### A string is a sequence of letters, numbers, and punctuation marks - or commonly known as text"
   ]
  },
  {
   "cell_type": "markdown",
   "id": "061199d9-7a16-4ff9-ba08-eff895468433",
   "metadata": {},
   "source": [
    "##### In Python you can create a string by typing letters between single or double quotation marks."
   ]
  },
  {
   "cell_type": "code",
   "execution_count": 7,
   "id": "5fa7b6a9-9a4f-40d6-90ef-caf2a4fcb7fb",
   "metadata": {},
   "outputs": [
    {
     "name": "stdout",
     "output_type": "stream",
     "text": [
      "kolkata West Bengal\n"
     ]
    }
   ],
   "source": [
    "city = \"kolkata\"\n",
    "state = \"West Bengal\"\n",
    "print (city,)"
   ]
  },
  {
   "cell_type": "code",
   "execution_count": 8,
   "id": "310a99cd-73c6-4ed2-80f0-98ece74f2c49",
   "metadata": {},
   "outputs": [
    {
     "name": "stdout",
     "output_type": "stream",
     "text": [
      "kolkata , West Bengal\n"
     ]
    }
   ],
   "source": [
    "print (city,\",\",state)"
   ]
  },
  {
   "cell_type": "markdown",
   "id": "0ef82247-a86b-4d20-8aea-4a8d34c3d669",
   "metadata": {},
   "source": [
    "## Numbers"
   ]
  },
  {
   "cell_type": "markdown",
   "id": "88c7c5a4-d7c9-448a-baac-b0ecf3907b5e",
   "metadata": {},
   "source": [
    "##### Python can handle several types of numbers, but the two most common are:"
   ]
  },
  {
   "cell_type": "markdown",
   "id": "c70cc0c3-f3d3-4a61-a396-b396cf94a88e",
   "metadata": {},
   "source": [
    "##### int, which represents integer values like 100, and \n",
    "float, which represents numbers that have a fraction part, like 0.5"
   ]
  },
  {
   "cell_type": "code",
   "execution_count": 9,
   "id": "035eaead-8e87-414e-bce3-e1fabdb09f10",
   "metadata": {},
   "outputs": [],
   "source": [
    "population = 14900000\n",
    "latitude = 22.56\n",
    "longitude = "
   ]
  },
  {
   "cell_type": "code",
   "execution_count": 11,
   "id": "aecd23f1-2d00-4d27-ab05-854be5b7fc09",
   "metadata": {},
   "outputs": [
    {
     "name": "stdout",
     "output_type": "stream",
     "text": [
      "<class 'int'>\n"
     ]
    }
   ],
   "source": [
    "print(type(population))"
   ]
  },
  {
   "cell_type": "code",
   "execution_count": 12,
   "id": "4e1ce17e-0369-4d85-a76f-41f61160ade8",
   "metadata": {},
   "outputs": [
    {
     "name": "stdout",
     "output_type": "stream",
     "text": [
      "<class 'float'>\n"
     ]
    }
   ],
   "source": [
    "print (type(latitude))"
   ]
  },
  {
   "cell_type": "code",
   "execution_count": 13,
   "id": "99e8d885-d16c-4f73-8c6c-5cf793258101",
   "metadata": {},
   "outputs": [
    {
     "name": "stdout",
     "output_type": "stream",
     "text": [
      "284.6832\n"
     ]
    }
   ],
   "source": [
    "elevation_feet = 934\n",
    "elevation_meter = elevation_feet * 0.3048\n",
    "print(elevation_meter)"
   ]
  },
  {
   "cell_type": "code",
   "execution_count": 15,
   "id": "ff8cdf4a-d372-4c92-b950-f38a306543b5",
   "metadata": {},
   "outputs": [
    {
     "name": "stdout",
     "output_type": "stream",
     "text": [
      "317764.9818724675\n"
     ]
    }
   ],
   "source": [
    "area_sqmi = 46.89\n",
    "density = population / area_sqmi\n",
    "print(density)"
   ]
  },
  {
   "cell_type": "code",
   "execution_count": 16,
   "id": "90764008-6228-4a12-9597-5c509d6350ea",
   "metadata": {},
   "outputs": [
    {
     "name": "stdout",
     "output_type": "stream",
     "text": [
      "(22.56, 86.36)\n"
     ]
    }
   ],
   "source": [
    "coordinates = (latitude,longitude)\n",
    "print(coordinates)"
   ]
  },
  {
   "cell_type": "code",
   "execution_count": 17,
   "id": "16e614e4-70a5-4b6f-b627-4c46cbf09ae3",
   "metadata": {},
   "outputs": [
    {
     "name": "stdout",
     "output_type": "stream",
     "text": [
      "86.36 22.56\n"
     ]
    }
   ],
   "source": [
    "y = coordinates[0]\n",
    "x = coordinates[1]\n",
    "print(x,y)"
   ]
  },
  {
   "cell_type": "markdown",
   "id": "6729acdd-b921-4289-8957-e3a7494b4ec5",
   "metadata": {},
   "source": [
    "## List"
   ]
  },
  {
   "cell_type": "markdown",
   "id": "3c60fb43-73c5-4fc4-8a15-057e7d36b09f",
   "metadata": {},
   "source": [
    "##### A list is similar to a tuple - but with a key difference. With tuples, once created, they cannot be changed, i.e. they are immutable. But lists are mutable. You can add, delete or change elements within a list. In Python, lists are written with square brackets []"
   ]
  },
  {
   "cell_type": "code",
   "execution_count": 18,
   "id": "76794d6d-704a-422a-8d06-fb383db76077",
   "metadata": {},
   "outputs": [
    {
     "name": "stdout",
     "output_type": "stream",
     "text": [
      "['kolkata', 'mumbai', 'delhi', 'hydrabad']\n"
     ]
    }
   ],
   "source": [
    "cities = [\"kolkata\",\"mumbai\",\"delhi\",\"hydrabad\"]\n",
    "print(cities)"
   ]
  },
  {
   "cell_type": "code",
   "execution_count": 19,
   "id": "df353dc7-b4fb-412f-bf00-c1eae6cffca0",
   "metadata": {},
   "outputs": [
    {
     "name": "stdout",
     "output_type": "stream",
     "text": [
      "kolkata\n"
     ]
    }
   ],
   "source": [
    "print(cities[0])"
   ]
  },
  {
   "cell_type": "code",
   "execution_count": 20,
   "id": "12287cc3-fb2a-40c4-bf80-ce19ca8553f9",
   "metadata": {},
   "outputs": [
    {
     "name": "stdout",
     "output_type": "stream",
     "text": [
      "4\n"
     ]
    }
   ],
   "source": [
    "print(len(cities))    "
   ]
  },
  {
   "cell_type": "code",
   "execution_count": 21,
   "id": "2776e4fe-46ea-4db5-94b9-5051477f9dd9",
   "metadata": {},
   "outputs": [],
   "source": [
    "cities.append(\"Bangalore\")"
   ]
  },
  {
   "cell_type": "code",
   "execution_count": 22,
   "id": "d154b3e1-0554-4662-9868-02a2ead33480",
   "metadata": {},
   "outputs": [
    {
     "name": "stdout",
     "output_type": "stream",
     "text": [
      "['kolkata', 'mumbai', 'delhi', 'hydrabad', 'Bangalore']\n"
     ]
    }
   ],
   "source": [
    "print(cities)"
   ]
  },
  {
   "cell_type": "code",
   "execution_count": 23,
   "id": "068b6b04-f113-4e4f-a10a-3e67e60196f6",
   "metadata": {},
   "outputs": [
    {
     "name": "stdout",
     "output_type": "stream",
     "text": [
      "['Bangalore', 'delhi', 'hydrabad', 'kolkata', 'mumbai']\n"
     ]
    }
   ],
   "source": [
    "cities.sort()\n",
    "print(cities)"
   ]
  },
  {
   "cell_type": "code",
   "execution_count": 25,
   "id": "23738aad-31a8-4a96-b9e3-ad33b089647f",
   "metadata": {},
   "outputs": [
    {
     "name": "stdout",
     "output_type": "stream",
     "text": [
      "['mumbai', 'kolkata', 'hydrabad', 'delhi', 'Bangalore']\n"
     ]
    }
   ],
   "source": [
    "cities.sort(reverse=True)\n",
    "print(cities)"
   ]
  },
  {
   "cell_type": "code",
   "execution_count": 27,
   "id": "ff54a351-87e6-496b-8c28-19d17aab7b87",
   "metadata": {},
   "outputs": [
    {
     "name": "stdout",
     "output_type": "stream",
     "text": [
      "set()\n"
     ]
    }
   ],
   "source": [
    "capitals = ['Sacramento', 'Boston', 'Austin', 'Atlanta']\n",
    "capitals_Set = set(capitals)\n",
    "cities_Set = set(cities)\n",
    "capitals_cities = capitals_Set.intersection(cities_Set)\n",
    "print (capitals_cities)"
   ]
  },
  {
   "cell_type": "code",
   "execution_count": 28,
   "id": "a964f7bb-b7b3-481e-adda-9cbe8c4d9348",
   "metadata": {},
   "outputs": [],
   "source": [
    "cities.extend(capitals)"
   ]
  },
  {
   "cell_type": "code",
   "execution_count": 29,
   "id": "e8902bbd-595b-43d6-9e9a-0ced6246ff01",
   "metadata": {},
   "outputs": [
    {
     "name": "stdout",
     "output_type": "stream",
     "text": [
      "['mumbai', 'kolkata', 'hydrabad', 'delhi', 'Bangalore', 'Sacramento', 'Boston', 'Austin', 'Atlanta']\n"
     ]
    }
   ],
   "source": [
    "print(cities)"
   ]
  },
  {
   "cell_type": "markdown",
   "id": "e35d2913-22e5-45da-b57a-e2ba8e6f7b81",
   "metadata": {},
   "source": [
    "print(set(cities))"
   ]
  },
  {
   "cell_type": "markdown",
   "id": "a1dc007e-847f-4ddd-9f0b-9f1037ba6569",
   "metadata": {},
   "source": [
    "## Sets"
   ]
  },
  {
   "cell_type": "markdown",
   "id": "340b673a-73ad-4055-a34f-91a7760a2123",
   "metadata": {},
   "source": [
    "##### Sets are like lists, but with some interesting properties. Mainly that they contain only unique values. It also allows for set operations - such as intersection, union and difference. In practice, the sets are typically created from lists."
   ]
  },
  {
   "cell_type": "code",
   "execution_count": 31,
   "id": "f6189dad-98b7-496c-87c5-b14aac2179b8",
   "metadata": {},
   "outputs": [
    {
     "name": "stdout",
     "output_type": "stream",
     "text": [
      "{'city': 'kolkata', 'population': 14900000, 'coordinates': (86.36, 22.56)}\n"
     ]
    }
   ],
   "source": [
    "data = {\"city\":\"kolkata\",\"population\":14900000,\"coordinates\":(86.36,22.56)}\n",
    "print(data)"
   ]
  },
  {
   "cell_type": "code",
   "execution_count": 34,
   "id": "9b7cd257-4997-4179-a157-b9e980a7bbce",
   "metadata": {},
   "outputs": [
    {
     "name": "stdout",
     "output_type": "stream",
     "text": [
      "(86.36, 22.56)\n"
     ]
    }
   ],
   "source": [
    "print (data[\"coordinates\"])"
   ]
  },
  {
   "cell_type": "markdown",
   "id": "632a4af8-e67c-4945-aec4-b76dd9c994ee",
   "metadata": {},
   "source": [
    "## String Operations"
   ]
  },
  {
   "cell_type": "code",
   "execution_count": 36,
   "id": "6cf047b1-06e8-4a62-a291-0074cb2fccee",
   "metadata": {},
   "outputs": [
    {
     "name": "stdout",
     "output_type": "stream",
     "text": [
      "7\n"
     ]
    }
   ],
   "source": [
    "city =\"Kolkata\"\n",
    "print(len(city))"
   ]
  },
  {
   "cell_type": "code",
   "execution_count": 37,
   "id": "3b6f210c-4d15-4e33-bfd4-1aa303039349",
   "metadata": {},
   "outputs": [
    {
     "name": "stdout",
     "output_type": "stream",
     "text": [
      "['Kolkata']\n"
     ]
    }
   ],
   "source": [
    "print(city.split())"
   ]
  },
  {
   "cell_type": "code",
   "execution_count": 38,
   "id": "c14cf1ac-c862-4327-886e-9fb46e5e2e08",
   "metadata": {},
   "outputs": [
    {
     "name": "stdout",
     "output_type": "stream",
     "text": [
      "KOLKATA\n"
     ]
    }
   ],
   "source": [
    "print(city.upper())"
   ]
  },
  {
   "cell_type": "code",
   "execution_count": 39,
   "id": "14a25d9c-bf61-4681-a42a-ede2f27d6a44",
   "metadata": {},
   "outputs": [
    {
     "data": {
      "text/plain": [
       "'K'"
      ]
     },
     "execution_count": 39,
     "metadata": {},
     "output_type": "execute_result"
    }
   ],
   "source": [
    "city[0]"
   ]
  },
  {
   "cell_type": "code",
   "execution_count": 40,
   "id": "8bdf69a2-6361-466e-9e4e-b5d15a24b512",
   "metadata": {},
   "outputs": [
    {
     "data": {
      "text/plain": [
       "'a'"
      ]
     },
     "execution_count": 40,
     "metadata": {},
     "output_type": "execute_result"
    }
   ],
   "source": [
    "city[-1]"
   ]
  },
  {
   "cell_type": "code",
   "execution_count": 42,
   "id": "603eac3e-fd93-4f7e-8a55-476247b7bfec",
   "metadata": {},
   "outputs": [
    {
     "data": {
      "text/plain": [
       "'Kol'"
      ]
     },
     "execution_count": 42,
     "metadata": {},
     "output_type": "execute_result"
    }
   ],
   "source": [
    "city [0:3]"
   ]
  },
  {
   "cell_type": "code",
   "execution_count": 43,
   "id": "55d936d9-c292-45cd-ade5-f4f8f04040d5",
   "metadata": {},
   "outputs": [
    {
     "data": {
      "text/plain": [
       "'ata'"
      ]
     },
     "execution_count": 43,
     "metadata": {},
     "output_type": "execute_result"
    }
   ],
   "source": [
    "city[4:]"
   ]
  },
  {
   "cell_type": "markdown",
   "id": "d49b069f-9acf-40ff-9a96-8d716f277c37",
   "metadata": {},
   "source": [
    "## Escaping characters"
   ]
  },
  {
   "cell_type": "markdown",
   "id": "1fa548bf-206f-46bb-92d8-cdcca31a3c56",
   "metadata": {},
   "source": [
    "##### Certain characters are special since they are by Python language itself. For example, the quote character ’ is used to define a string. What do you do if your string contains a quote character? \r\n",
    "In Python strings, the backslash \\ is a special character, also called the escape character. Prefixing any character with a backslash makes it an ordinary character. (Hint: Prefixing a backslash with a backshalsh makes it ordinary too \r\n",
    "\r\n",
    "It is also used for representing certain whitespace characters, \\n is a newline, \\t is a tab  c.\r\n",
    "\r\n",
    "Remove the # from the cell below and run it."
   ]
  },
  {
   "cell_type": "code",
   "execution_count": 44,
   "id": "350219be-97b3-4124-8878-228d9c34872d",
   "metadata": {},
   "outputs": [
    {
     "name": "stdout",
     "output_type": "stream",
     "text": [
      "It is a beutiful day\n"
     ]
    }
   ],
   "source": [
    "my_string = \"It is a beutiful day\"\n",
    "print(my_string)"
   ]
  },
  {
   "cell_type": "markdown",
   "id": "4b878c9e-0cd3-41b5-b47f-a581a57bbd44",
   "metadata": {},
   "source": [
    "## Printing Strings"
   ]
  },
  {
   "cell_type": "markdown",
   "id": "0de5d110-c770-4f1b-af63-9a4dc2797c5a",
   "metadata": {},
   "source": [
    "##### Modern way of creating strings from variables is using the format() method"
   ]
  },
  {
   "cell_type": "code",
   "execution_count": 47,
   "id": "9bb373ac-3b2c-4186-ad1d-c5489cdd1b9c",
   "metadata": {},
   "outputs": [
    {
     "name": "stdout",
     "output_type": "stream",
     "text": [
      "Population of Kolkata is 19400000.\n"
     ]
    }
   ],
   "source": [
    "city = \"Kolkata\"\n",
    "population = 19400000\n",
    "output =  \"Population of {} is {}.\".format(city,population)\n",
    "print(output)"
   ]
  },
  {
   "cell_type": "markdown",
   "id": "14fb839c-a8fe-432d-93c9-3be439be7826",
   "metadata": {},
   "source": [
    "##### You can also use the format method to control the precision of the numbers"
   ]
  },
  {
   "cell_type": "code",
   "execution_count": 48,
   "id": "34432d8f-f642-4c42-9550-12601a0c844e",
   "metadata": {},
   "outputs": [
    {
     "name": "stdout",
     "output_type": "stream",
     "text": [
      "22.56,86.36\n"
     ]
    }
   ],
   "source": [
    "latitude = 22.56\n",
    "longitude = 86.36\n",
    "coordinates = \"{:.2f},{:.2f}\".format(latitude,longitude)\n",
    "print(coordinates)"
   ]
  },
  {
   "cell_type": "markdown",
   "id": "af8010e9-6203-4766-b833-5a27181a7947",
   "metadata": {},
   "source": [
    "## Loops and Conditionals For Loopss"
   ]
  },
  {
   "cell_type": "markdown",
   "id": "5d8bb602-412e-491a-9414-e0d554636f2e",
   "metadata": {},
   "source": [
    "##### A for loop is used for iterating over a sequence. The sequence can be a list, a tuple, a dictionary, a set, or a string."
   ]
  },
  {
   "cell_type": "code",
   "execution_count": 49,
   "id": "64cc74a6-153e-4e58-b83d-053b29814f8b",
   "metadata": {},
   "outputs": [
    {
     "name": "stdout",
     "output_type": "stream",
     "text": [
      "kolkata\n",
      "delhi\n",
      "mumbai\n",
      "hydrabad\n"
     ]
    }
   ],
   "source": [
    "cities = [\"kolkata\",\"delhi\",\"mumbai\",\"hydrabad\"]\n",
    "for city in cities:\n",
    "    print (city)"
   ]
  },
  {
   "cell_type": "markdown",
   "id": "870dace6-4608-4b0d-a75b-69cf96a08ea4",
   "metadata": {},
   "source": [
    "##### To iterate over a dictionary, you can call the items() method on it which returns a tuple of key and value for each item."
   ]
  },
  {
   "cell_type": "markdown",
   "id": "a05e34d1-afc3-4d49-9538-4532fdddbf9b",
   "metadata": {},
   "source": [
    "data = {'city': 'San Francisco', 'population': 881549, 'coordinates': (-122.4194, 37.7749) }\n",
    "for x,y in data.items():\n",
    "    print (x,y)"
   ]
  },
  {
   "cell_type": "markdown",
   "id": "0678c3ed-6306-42fe-97bd-63f45c01c980",
   "metadata": {},
   "source": [
    "##### The built-in range() function allows you to create sequence of numbers that you can iterate over"
   ]
  },
  {
   "cell_type": "code",
   "execution_count": 52,
   "id": "dcddfcab-2cb0-42ba-af62-71f1289317f6",
   "metadata": {},
   "outputs": [
    {
     "name": "stdout",
     "output_type": "stream",
     "text": [
      "0\n",
      "1\n",
      "2\n",
      "3\n",
      "4\n"
     ]
    }
   ],
   "source": [
    "for x in range (5):\n",
    "    print(x)"
   ]
  },
  {
   "cell_type": "markdown",
   "id": "83483843-c242-4b94-b9d1-5547c08052fc",
   "metadata": {},
   "source": [
    "##### The range function can also take a start and an end number"
   ]
  },
  {
   "cell_type": "code",
   "execution_count": 56,
   "id": "0b686df2-01e4-4758-83e7-f0459e7cf0fb",
   "metadata": {},
   "outputs": [
    {
     "name": "stdout",
     "output_type": "stream",
     "text": [
      "1\n",
      "3\n",
      "5\n",
      "7\n",
      "9\n"
     ]
    }
   ],
   "source": [
    "for x in range (1,10,2):\n",
    "    print(x)"
   ]
  },
  {
   "cell_type": "markdown",
   "id": "908bc230-5fe4-46fe-9f13-b058f2ce59d8",
   "metadata": {},
   "source": [
    "## Conditionals"
   ]
  },
  {
   "cell_type": "markdown",
   "id": "4575769c-e304-4960-b311-fa4421292c01",
   "metadata": {},
   "source": [
    "##### Python supports logical conditions such as equals, not equals, greater than etc. These conditions can be used in several ways, most commonly in if statements and loops. \r\n",
    "An if statement is written by using the if keywor \r\n",
    "\r\n",
    "Note: A very common error that programmers make is to use = to evaluate a equals to condition. The = in Python means assignment, not equals to. Always ensure that you use the == for an equals to condition."
   ]
  },
  {
   "cell_type": "code",
   "execution_count": 59,
   "id": "6f16aab8-d402-484a-8fe0-874a5dfd3ad1",
   "metadata": {},
   "outputs": [
    {
     "name": "stdout",
     "output_type": "stream",
     "text": [
      "kolkata\n"
     ]
    }
   ],
   "source": [
    "for city in cities:\n",
    "    if city == \"kolkata\":\n",
    "        print(city)"
   ]
  },
  {
   "cell_type": "markdown",
   "id": "42199068-1053-4419-a7d7-e7e1707f00f7",
   "metadata": {},
   "source": [
    "##### You can use else keywords along with if to match elements that do not meet the condition"
   ]
  },
  {
   "cell_type": "code",
   "execution_count": 60,
   "id": "1f2712d3-e5e0-4c02-a3b7-245b1cf15f98",
   "metadata": {},
   "outputs": [
    {
     "name": "stdout",
     "output_type": "stream",
     "text": [
      "This is not in cities\n",
      "This is not in cities\n",
      "This is not in cities\n",
      "This is not in cities\n"
     ]
    }
   ],
   "source": [
    "for city in cities:\n",
    "    if city == \"Ranchi\":\n",
    "        print(city)\n",
    "    else:\n",
    "        print(\"This is not in cities\")\n",
    "        "
   ]
  },
  {
   "cell_type": "markdown",
   "id": "139507f6-1bd6-49e2-a1b3-0c518dd2bc5c",
   "metadata": {},
   "source": [
    " ##### Python relies on indentation (whitespace at the beginning of a line) to define scope in the for loop and if statements. So make sure your code is properly indented. You can evaluate a series of conditions using the elif keyword. Multiple criteria can be combined using the and and or keywords."
   ]
  },
  {
   "cell_type": "code",
   "execution_count": 62,
   "id": "f2e9d7a5-e03c-4edf-9da6-51708c22dd23",
   "metadata": {},
   "outputs": [
    {
     "name": "stdout",
     "output_type": "stream",
     "text": [
      "kolkata is a small city\n",
      "mumbai is a small city\n",
      "delhi is a small city\n",
      "hydrabad is a small city\n"
     ]
    }
   ],
   "source": [
    "cities_population = {\n",
    "    \"kolkata\": 800000,\n",
    "    \"mumbai\": 600000,\n",
    "    \"delhi\": 400000,\n",
    "    \"hydrabad\": 700000\n",
    "}\n",
    "for city, population in cities_population.items():\n",
    "    if population < 1000000:\n",
    "        print(\"{} is a small city\".format(city))\n",
    "    elif population > 100000 and population <500000:\n",
    "        print(\"{} is a big city\".format(city))\n",
    "    else:\n",
    "        print(\"{} is a mega city\".format(city))\n",
    "        "
   ]
  },
  {
   "cell_type": "markdown",
   "id": "83053584-a987-4432-a6d2-2cc01617764f",
   "metadata": {},
   "source": [
    "## Control Statements"
   ]
  },
  {
   "cell_type": "markdown",
   "id": "acace624-8683-46d4-a3ff-dd2bab836aa3",
   "metadata": {},
   "source": [
    "##### A for-loop iterates over each item in the sequence. Sometimes is desirable to stop the execution, or skip certain parts of the for-loops. Python has special statements, break, continue and pass. A break statement will stop the loop and exit out of it"
   ]
  },
  {
   "cell_type": "code",
   "execution_count": 65,
   "id": "e90f30e6-a2b0-40c6-b3b9-4e727791e04d",
   "metadata": {},
   "outputs": [
    {
     "name": "stdout",
     "output_type": "stream",
     "text": [
      "I found kolkata\n"
     ]
    }
   ],
   "source": [
    "for city in cities:\n",
    "    #print (city)\n",
    "    if city == \"kolkata\":\n",
    "        print(\"I found kolkata\")\n",
    "        break"
   ]
  },
  {
   "cell_type": "markdown",
   "id": "d0b3785c-aded-4177-901b-4730583cec63",
   "metadata": {},
   "source": [
    "##### A continue statement will skip the remaining part of the loop and go to the next iteration"
   ]
  },
  {
   "cell_type": "code",
   "execution_count": 68,
   "id": "6c425b73-f433-4ce5-ba2e-9665725904a0",
   "metadata": {},
   "outputs": [
    {
     "name": "stdout",
     "output_type": "stream",
     "text": [
      "delhi\n",
      "mumbai\n",
      "hydrabad\n"
     ]
    }
   ],
   "source": [
    "for city in cities:\n",
    "    if city == \"kolkata\":\n",
    "        continue\n",
    "    print(city)"
   ]
  },
  {
   "cell_type": "markdown",
   "id": "712ddb95-2b77-4565-b093-32ede101abb5",
   "metadata": {},
   "source": [
    "##### A pass statement doesn’t do anything. It is useful when some code is required to complete the syntax, but you do not want any code to execute. It is typically used as a placeholder when a function is not complete."
   ]
  },
  {
   "cell_type": "code",
   "execution_count": 72,
   "id": "26ab19b8-a915-4d4f-9c16-98307e4f138b",
   "metadata": {},
   "outputs": [
    {
     "name": "stdout",
     "output_type": "stream",
     "text": [
      "delhi\n",
      "mumbai\n",
      "hydrabad\n"
     ]
    }
   ],
   "source": [
    "for city in cities:\n",
    "    if city == \"kolkata\":\n",
    "        pass\n",
    "    else:\n",
    "        print(city)"
   ]
  },
  {
   "cell_type": "markdown",
   "id": "b0896f2c-3cf5-4364-b768-7beb553acb97",
   "metadata": {},
   "source": [
    "## The Python Standard Library"
   ]
  },
  {
   "cell_type": "markdown",
   "id": "004afda0-e1f6-45e3-a282-e4a775023d78",
   "metadata": {},
   "source": [
    "##### Python comes with many built-in modules that offer ready-to-use solutions to common programming problems. To use these modules, you must use the import keyword. Once imported in your Python script, you can use the functions provided by the module in your script.  \n",
    "We will use the built-in math module that allows us to use advanced mathematical functions."
   ]
  },
  {
   "cell_type": "code",
   "execution_count": 2,
   "id": "bc99cee2-6ad7-4efa-8a41-25a48a935a0a",
   "metadata": {},
   "outputs": [
    {
     "name": "stdout",
     "output_type": "stream",
     "text": [
      "3.141592653589793\n"
     ]
    }
   ],
   "source": [
    "import math\n",
    "from math import pi\n",
    "print (pi)"
   ]
  },
  {
   "cell_type": "markdown",
   "id": "69df1d6e-777f-4ae1-bb50-2ad5235bde7c",
   "metadata": {},
   "source": [
    "## Working with Pandas"
   ]
  },
  {
   "cell_type": "markdown",
   "id": "302707cb-82ff-4897-b415-7456f1dfc2f4",
   "metadata": {},
   "source": [
    "##### Pandas is a powerful library for working with data. Pandas provides fast and easy functions for reading data from files, and analyzing it.\n",
    "\n",
    "Pandas is based on another library called numpy - which is widely used in scientific computing. Pandas extends numpy and provides new data types such as Index, Series and DataFrames."
   ]
  },
  {
   "cell_type": "code",
   "execution_count": 4,
   "id": "96259826-b4ce-4472-94dd-c8bb1244ef43",
   "metadata": {},
   "outputs": [],
   "source": [
    "import pandas as pd"
   ]
  },
  {
   "cell_type": "markdown",
   "id": "c16f442f-a0df-41a3-8781-a74505240d8c",
   "metadata": {},
   "source": [
    "### Reading Files"
   ]
  },
  {
   "cell_type": "code",
   "execution_count": 5,
   "id": "e28327b6-746c-4f57-83c8-19dc45bab6f3",
   "metadata": {},
   "outputs": [
    {
     "name": "stdout",
     "output_type": "stream",
     "text": [
      "<class 'numpy.ndarray'>\n"
     ]
    }
   ],
   "source": [
    "import numpy as np\n",
    "a = np.array ([1,2,3,4])\n",
    "print(type(a))"
   ]
  },
  {
   "cell_type": "raw",
   "id": "810233b6-dc57-4416-9555-fa6087670d5c",
   "metadata": {},
   "source": [
    "b = np.array ([[1,2,4],[3,4,5]])\n",
    "print (b)\n",
    "print(b.ndim)\n",
    "print (b.shape)"
   ]
  },
  {
   "cell_type": "code",
   "execution_count": 7,
   "id": "72703b92-3d0a-451f-b241-5cdcf259eaf0",
   "metadata": {},
   "outputs": [
    {
     "name": "stdout",
     "output_type": "stream",
     "text": [
      "[1 2 4]\n"
     ]
    }
   ],
   "source": [
    "print(b[0])"
   ]
  },
  {
   "cell_type": "code",
   "execution_count": 9,
   "id": "eeddb887-c3bb-4737-b40a-dc58b5f8d5b6",
   "metadata": {},
   "outputs": [
    {
     "name": "stdout",
     "output_type": "stream",
     "text": [
      "4\n"
     ]
    }
   ],
   "source": [
    "print (b[0][2])"
   ]
  }
 ],
 "metadata": {
  "kernelspec": {
   "display_name": "Python 3 (ipykernel)",
   "language": "python",
   "name": "python3"
  },
  "language_info": {
   "codemirror_mode": {
    "name": "ipython",
    "version": 3
   },
   "file_extension": ".py",
   "mimetype": "text/x-python",
   "name": "python",
   "nbconvert_exporter": "python",
   "pygments_lexer": "ipython3",
   "version": "3.11.4"
  }
 },
 "nbformat": 4,
 "nbformat_minor": 5
}
